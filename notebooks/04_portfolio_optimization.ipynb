{
 "cells": [
  {
   "cell_type": "code",
   "execution_count": 15,
   "id": "a51528ce",
   "metadata": {},
   "outputs": [],
   "source": [
    "# Import all necessary libraries for Task 4\n",
    "import pandas as pd\n",
    "import numpy as np\n",
    "import matplotlib.pyplot as plt\n",
    "from pypfopt.efficient_frontier import EfficientFrontier\n",
    "from pypfopt import risk_models\n",
    "from pypfopt import expected_returns\n",
    "from pypfopt import plotting"
   ]
  },
  {
   "cell_type": "code",
   "execution_count": 17,
   "id": "97770388",
   "metadata": {},
   "outputs": [
    {
     "name": "stdout",
     "output_type": "stream",
     "text": [
      "Processed data loaded successfully.\n",
      "TSLA future forecast loaded successfully.\n"
     ]
    }
   ],
   "source": [
    "# -----------------------------------------------------------------------------\n",
    "# Subtask 4.1: Prepare Data for Portfolio Optimization\n",
    "# -----------------------------------------------------------------------------\n",
    "# Load processed data for all assets from the data/processed directory\n",
    "try:\n",
    "    processed_data = pd.read_csv('../data/processed/all_assets_processed.csv', index_col=0, parse_dates=True)\n",
    "    print(\"Processed data loaded successfully.\")\n",
    "except FileNotFoundError:\n",
    "    print(\"Error: Processed data file not found. Please ensure Task 1 is completed.\")\n",
    "    exit()\n",
    "\n",
    "# Load the future forecast for TSLA from Task 3\n",
    "try:\n",
    "    tsla_future_forecast = pd.read_csv('../outputs/results/tsla_lstm_future_forecast.csv', index_col=0, parse_dates=True).iloc[:, 0]\n",
    "    print(\"TSLA future forecast loaded successfully.\")\n",
    "except FileNotFoundError:\n",
    "    print(\"Warning: TSLA future forecast file not found. Please ensure Task 3 is completed.\")\n",
    "    tsla_future_forecast = None\n",
    "\n",
    "# Calculate annualized expected returns for all assets using PyPortfolioOpt's method\n",
    "mu = expected_returns.mean_historical_return(processed_data, frequency=252)"
   ]
  },
  {
   "cell_type": "code",
   "execution_count": 18,
   "id": "6ee76f5b",
   "metadata": {},
   "outputs": [
    {
     "name": "stdout",
     "output_type": "stream",
     "text": [
      "\n",
      "Annualized Expected Returns:\n",
      "TSLA   -0.487442\n",
      "BND     0.018311\n",
      "SPY     0.136990\n",
      "dtype: float64\n"
     ]
    }
   ],
   "source": [
    "# If the forecast data exists, use it to override TSLA's historical expected return\n",
    "if tsla_future_forecast is not None and not tsla_future_forecast.empty:\n",
    "    # Calculate returns from the TSLA forecast\n",
    "    tsla_forecast_returns = tsla_future_forecast.pct_change().dropna()\n",
    "    # Annualize the forecast mean daily return for consistency\n",
    "    mu['TSLA'] = tsla_forecast_returns.mean() * 252\n",
    "else:\n",
    "    print(\"Using historical mean return for TSLA.\")\n",
    "\n",
    "print(\"\\nAnnualized Expected Returns:\")\n",
    "print(mu)"
   ]
  },
  {
   "cell_type": "code",
   "execution_count": 19,
   "id": "da7214e5",
   "metadata": {},
   "outputs": [
    {
     "name": "stdout",
     "output_type": "stream",
     "text": [
      "\n",
      "Annualized Covariance Matrix:\n",
      "          TSLA       BND       SPY\n",
      "TSLA  0.281823  0.001039  0.032636\n",
      "BND   0.001039  0.002217  0.000367\n",
      "SPY   0.032636  0.000367  0.019750\n"
     ]
    }
   ],
   "source": [
    "# Calculate the annualized sample covariance matrix using historical daily returns\n",
    "S = risk_models.sample_cov(processed_data, frequency=252)\n",
    "print(\"\\nAnnualized Covariance Matrix:\")\n",
    "print(S)"
   ]
  },
  {
   "cell_type": "code",
   "execution_count": 20,
   "id": "a15d50f2",
   "metadata": {},
   "outputs": [
    {
     "name": "stdout",
     "output_type": "stream",
     "text": [
      "Expected returns and covariance matrix saved to outputs/results/\n"
     ]
    }
   ],
   "source": [
    "# Save the prepared data to the results directory\n",
    "mu.to_csv('../outputs/results/expected_returns.csv', header=True)\n",
    "S.to_csv('../outputs/results/covariance_matrix.csv', header=True)\n",
    "print(\"Expected returns and covariance matrix saved to outputs/results/\")\n"
   ]
  },
  {
   "cell_type": "code",
   "execution_count": 22,
   "id": "230c4702",
   "metadata": {},
   "outputs": [
    {
     "name": "stdout",
     "output_type": "stream",
     "text": [
      "\n",
      "Maximum Sharpe Ratio Portfolio Weights:\n",
      "OrderedDict({'TSLA': 0.0, 'BND': 0.51182, 'SPY': 0.48818})\n",
      "Expected annual return: 7.6%\n",
      "Annual volatility: 7.4%\n",
      "Sharpe Ratio: 1.03\n"
     ]
    }
   ],
   "source": [
    "# -----------------------------------------------------------------------------\n",
    "# Subtask 4.2: Generate the Efficient Frontier\n",
    "# -----------------------------------------------------------------------------\n",
    "# Initialize the EfficientFrontier object with the calculated returns and covariance matrix\n",
    "ef = EfficientFrontier(mu, S)\n",
    "\n",
    "# Find the portfolio with the maximum Sharpe Ratio\n",
    "ef_sharpe = EfficientFrontier(mu, S)\n",
    "weights_sharpe = ef_sharpe.max_sharpe()\n",
    "cleaned_weights_sharpe = ef_sharpe.clean_weights()\n",
    "print(\"\\nMaximum Sharpe Ratio Portfolio Weights:\")\n",
    "print(cleaned_weights_sharpe)\n",
    "sharpe_perf = ef_sharpe.portfolio_performance(verbose=True)"
   ]
  },
  {
   "cell_type": "code",
   "execution_count": 23,
   "id": "b63ab822",
   "metadata": {},
   "outputs": [
    {
     "name": "stdout",
     "output_type": "stream",
     "text": [
      "\n",
      "Minimum Volatility Portfolio Weights:\n",
      "OrderedDict({'TSLA': 0.0, 'BND': 0.91289, 'SPY': 0.08711})\n",
      "Expected annual return: 2.9%\n",
      "Annual volatility: 4.5%\n",
      "Sharpe Ratio: 0.63\n"
     ]
    }
   ],
   "source": [
    "# Find the portfolio with the minimum volatility\n",
    "ef_min_vol = EfficientFrontier(mu, S)\n",
    "weights_min_vol = ef_min_vol.min_volatility()\n",
    "cleaned_weights_min_vol = ef_min_vol.clean_weights()\n",
    "print(\"\\nMinimum Volatility Portfolio Weights:\")\n",
    "print(cleaned_weights_min_vol)\n",
    "min_vol_perf = ef_min_vol.portfolio_performance(verbose=True)"
   ]
  },
  {
   "cell_type": "code",
   "execution_count": 24,
   "id": "49f48ee7",
   "metadata": {},
   "outputs": [
    {
     "data": {
      "image/png": "[encoded data removed]",
      "text/plain": [
       "<Figure size 1000x600 with 1 Axes>"
      ]
     },
     "metadata": {},
     "output_type": "display_data"
    }
   ],
   "source": [
    "# Plot the Efficient Frontier with the optimal portfolios highlighted\n",
    "fig, ax = plt.subplots(figsize=(10, 6))\n",
    "plotting.plot_efficient_frontier(ef, ax=ax, show_assets=True)\n",
    "ret_sharpe, std_sharpe, _ = sharpe_perf\n",
    "ax.scatter(std_sharpe, ret_sharpe, marker=\"*\", s=500, c=\"r\", label=\"Max Sharpe\")\n",
    "ret_min_vol, std_min_vol, _ = min_vol_perf\n",
    "ax.scatter(std_min_vol, ret_min_vol, marker=\"o\", s=300, c=\"g\", label=\"Min Volatility\")\n",
    "ax.set_title(\"Efficient Frontier with Optimal Portfolios\")\n",
    "ax.set_xlabel(\"Annualized Volatility (%)\")\n",
    "ax.set_ylabel(\"Annualized Return (%)\")\n",
    "ax.legend()\n",
    "plt.tight_layout()\n",
    "plt.savefig('../outputs/plots/efficient_frontier.png')\n",
    "plt.show()\n"
   ]
  },
  {
   "cell_type": "code",
   "execution_count": 25,
   "id": "6f0f371f",
   "metadata": {},
   "outputs": [
    {
     "name": "stdout",
     "output_type": "stream",
     "text": [
      "\n",
      "--- Portfolio Recommendation ---\n",
      "Based on the objective to optimize returns while managing risks, the **Maximum Sharpe Ratio Portfolio** is recommended.\n",
      "\n",
      "--- Recommended Portfolio Summary ---\n",
      "Optimal Weights:\n"
     ]
    }
   ],
   "source": [
    "# -----------------------------------------------------------------------------\n",
    "# Subtask 4.3: Select and Recommend an Optimal Portfolio\n",
    "# -----------------------------------------------------------------------------\n",
    "# For this example, the Max Sharpe Ratio portfolio is recommended as it balances risk and reward.\n",
    "recommended_portfolio_weights = cleaned_weights_sharpe\n",
    "recommended_portfolio_performance = sharpe_perf\n",
    "\n",
    "print(\"\\n--- Portfolio Recommendation ---\")\n",
    "print(\"Based on the objective to optimize returns while managing risks, the **Maximum Sharpe Ratio Portfolio** is recommended.\")\n",
    "print(\"\\n--- Recommended Portfolio Summary ---\")\n",
    "print(\"Optimal Weights:\")"
   ]
  },
  {
   "cell_type": "code",
   "execution_count": 26,
   "id": "5b16f527",
   "metadata": {},
   "outputs": [
    {
     "name": "stdout",
     "output_type": "stream",
     "text": [
      "  TSLA: 0.00%\n",
      "  BND: 51.18%\n",
      "  SPY: 48.82%\n",
      "\n",
      "Expected Annual Return: 7.62%\n",
      "Annualized Volatility: 7.40%\n",
      "Sharpe Ratio: 1.03\n"
     ]
    }
   ],
   "source": [
    "for asset, weight in recommended_portfolio_weights.items():\n",
    "    print(f\"  {asset}: {weight:.2%}\")\n",
    "print(f\"\\nExpected Annual Return: {recommended_portfolio_performance[0]:.2%}\")\n",
    "print(f\"Annualized Volatility: {recommended_portfolio_performance[1]:.2%}\")\n",
    "print(f\"Sharpe Ratio: {recommended_portfolio_performance[2]:.2f}\")"
   ]
  },
  {
   "cell_type": "code",
   "execution_count": 27,
   "id": "d51815e7",
   "metadata": {},
   "outputs": [
    {
     "name": "stdout",
     "output_type": "stream",
     "text": [
      "Recommended portfolio weights saved to outputs/results/recommended_portfolio_weights.csv\n"
     ]
    }
   ],
   "source": [
    "# Save the optimal portfolio weights\n",
    "pd.Series(recommended_portfolio_weights).to_csv('../outputs/results/recommended_portfolio_weights.csv', header=True)\n",
    "print(\"Recommended portfolio weights saved to outputs/results/recommended_portfolio_weights.csv\")"
   ]
  }
 ],
 "metadata": {
  "kernelspec": {
   "display_name": ".venv",
   "language": "python",
   "name": "python3"
  },
  "language_info": {
   "codemirror_mode": {
    "name": "ipython",
    "version": 3
   },
   "file_extension": ".py",
   "mimetype": "text/x-python",
   "name": "python",
   "nbconvert_exporter": "python",
   "pygments_lexer": "ipython3",
   "version": "3.13.5"
  }
 },
 "nbformat": 4,
 "nbformat_minor": 5
}
