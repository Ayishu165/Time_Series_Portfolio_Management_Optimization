{
 "cells": [
  {
   "cell_type": "code",
   "execution_count": 1,
   "id": "fdb27810",
   "metadata": {},
   "outputs": [],
   "source": [
    "# Import necessary libraries\n",
    "import yfinance as yf\n",
    "import pandas as pd\n",
    "import numpy as np\n",
    "import matplotlib.pyplot as plt\n",
    "import seaborn as sns\n",
    "from statsmodels.tsa.stattools import adfuller"
   ]
  },
  {
   "cell_type": "code",
   "execution_count": 2,
   "id": "cc96c9a9",
   "metadata": {},
   "outputs": [
    {
     "name": "stdout",
     "output_type": "stream",
     "text": [
      "Fetching data for TSLA...\n"
     ]
    },
    {
     "name": "stderr",
     "output_type": "stream",
     "text": [
      "C:\\Users\\ayish\\AppData\\Local\\Temp\\ipykernel_16552\\2341258820.py:12: FutureWarning: YF.download() has changed argument auto_adjust default to True\n",
      "  df = yf.download(ticker, start=start_date, end=end_date)\n",
      "[*********************100%***********************]  1 of 1 completed\n",
      "C:\\Users\\ayish\\AppData\\Local\\Temp\\ipykernel_16552\\2341258820.py:12: FutureWarning: YF.download() has changed argument auto_adjust default to True\n",
      "  df = yf.download(ticker, start=start_date, end=end_date)\n"
     ]
    },
    {
     "name": "stdout",
     "output_type": "stream",
     "text": [
      "Data for TSLA fetched and saved to data/raw/TSLA_raw.csv\n",
      "Fetching data for BND...\n"
     ]
    },
    {
     "name": "stderr",
     "output_type": "stream",
     "text": [
      "[*********************100%***********************]  1 of 1 completed\n",
      "C:\\Users\\ayish\\AppData\\Local\\Temp\\ipykernel_16552\\2341258820.py:12: FutureWarning: YF.download() has changed argument auto_adjust default to True\n",
      "  df = yf.download(ticker, start=start_date, end=end_date)\n"
     ]
    },
    {
     "name": "stdout",
     "output_type": "stream",
     "text": [
      "Data for BND fetched and saved to data/raw/BND_raw.csv\n",
      "Fetching data for SPY...\n"
     ]
    },
    {
     "name": "stderr",
     "output_type": "stream",
     "text": [
      "[*********************100%***********************]  1 of 1 completed"
     ]
    },
    {
     "name": "stdout",
     "output_type": "stream",
     "text": [
      "Data for SPY fetched and saved to data/raw/SPY_raw.csv\n",
      "\n",
      "Sample of TSLA data:\n",
      "Price           Close       High        Low       Open     Volume\n",
      "Ticker           TSLA       TSLA       TSLA       TSLA       TSLA\n",
      "Date                                                             \n",
      "2015-07-01  17.943333  18.174667  17.856667  18.073999   31518000\n",
      "2015-07-02  18.667999  18.830000  18.220667  18.680000  107458500\n",
      "2015-07-06  18.648001  18.779333  18.420000  18.591999   61828500\n",
      "2015-07-07  17.858667  18.346666  17.384666  18.333332   91576500\n",
      "2015-07-08  16.997334  17.386667  16.954000  17.288000   93316500\n"
     ]
    },
    {
     "name": "stderr",
     "output_type": "stream",
     "text": [
      "\n"
     ]
    }
   ],
   "source": [
    "\n",
    "# Define ticker symbols and date range\n",
    "tickers = [\"TSLA\", \"BND\", \"SPY\"]\n",
    "start_date = \"2015-07-01\"\n",
    "end_date = \"2025-07-31\"\n",
    "\n",
    "# Create a dictionary to store dataframes for each ticker\n",
    "all_data = {}\n",
    "\n",
    "# Fetch data for each ticker\n",
    "for ticker in tickers:\n",
    "    print(f\"Fetching data for {ticker}...\")\n",
    "    df = yf.download(ticker, start=start_date, end=end_date)\n",
    "    all_data[ticker] = df\n",
    "    # Save raw data to the specified path\n",
    "    df.to_csv(f'../data/raw/{ticker}_raw.csv')\n",
    "    print(f\"Data for {ticker} fetched and saved to data/raw/{ticker}_raw.csv\")\n",
    "\n",
    "# Display the first few rows of one of the dataframes to check\n",
    "print(\"\\nSample of TSLA data:\")\n",
    "print(all_data['TSLA'].head())"
   ]
  },
  {
   "cell_type": "code",
   "execution_count": 3,
   "id": "54964b31",
   "metadata": {},
   "outputs": [
    {
     "name": "stdout",
     "output_type": "stream",
     "text": [
      "\n",
      "Information about TSLA data:\n",
      "<class 'pandas.core.frame.DataFrame'>\n",
      "DatetimeIndex: 2535 entries, 2015-07-01 to 2025-07-30\n",
      "Data columns (total 5 columns):\n",
      " #   Column          Non-Null Count  Dtype  \n",
      "---  ------          --------------  -----  \n",
      " 0   (Close, TSLA)   2535 non-null   float64\n",
      " 1   (High, TSLA)    2535 non-null   float64\n",
      " 2   (Low, TSLA)     2535 non-null   float64\n",
      " 3   (Open, TSLA)    2535 non-null   float64\n",
      " 4   (Volume, TSLA)  2535 non-null   int64  \n",
      "dtypes: float64(4), int64(1)\n",
      "memory usage: 118.8 KB\n",
      "None\n"
     ]
    }
   ],
   "source": [
    "#check information fo data \n",
    "print(\"\\nInformation about TSLA data:\")\n",
    "print(all_data['TSLA'].info())"
   ]
  },
  {
   "cell_type": "code",
   "execution_count": 3,
   "id": "c837db25",
   "metadata": {},
   "outputs": [
    {
     "name": "stdout",
     "output_type": "stream",
     "text": [
      "Loaded raw data for TSLA from file.\n",
      "Loaded raw data for BND from file.\n",
      "Loaded raw data for SPY from file.\n",
      "\n",
      "Sample TSLA data info:\n",
      "<class 'pandas.core.frame.DataFrame'>\n",
      "DatetimeIndex: 2535 entries, 2015-07-01 to 2025-07-30\n",
      "Data columns (total 6 columns):\n",
      " #   Column  Non-Null Count  Dtype  \n",
      "---  ------  --------------  -----  \n",
      " 0   Price   2535 non-null   float64\n",
      " 1   Close   2535 non-null   float64\n",
      " 2   High    2535 non-null   float64\n",
      " 3   Low     2535 non-null   float64\n",
      " 4   Open    2535 non-null   int64  \n",
      " 5   Volume  0 non-null      float64\n",
      "dtypes: float64(5), int64(1)\n",
      "memory usage: 138.6 KB\n",
      "\n",
      "Basic statistics for processed data:\n",
      "              TSLA          BND          SPY\n",
      "count  2535.000000  2535.000000  2535.000000\n",
      "mean    134.960429    68.571174   335.981618\n",
      "std     123.783736     4.563590   127.053089\n",
      "min      10.331333    60.899393   156.926746\n",
      "25%      19.279667    64.731230   234.024909\n",
      "50%      97.666664    67.749353   306.143457\n",
      "75%     240.881668    72.018947   423.114882\n",
      "max     488.540009    77.413307   638.669983\n"
     ]
    }
   ],
   "source": [
    "# -----------------------------------------------------------------------------\n",
    "# Subtask 1.2: Data Cleaning and Understanding\n",
    "# -----------------------------------------------------------------------------\n",
    "# Assuming raw data is already saved in the data/raw folder\n",
    "tickers = [\"TSLA\", \"BND\", \"SPY\"]\n",
    "all_data = {}\n",
    "\n",
    "# Load the raw data for each ticker from the CSV files\n",
    "for ticker in tickers:\n",
    "    try:\n",
    "        df = pd.read_csv(f'../data/raw/{ticker}_raw.csv', index_col=0, parse_dates=True)\n",
    "        all_data[ticker] = df\n",
    "        print(f\"Loaded raw data for {ticker} from file.\")\n",
    "    except FileNotFoundError:\n",
    "        print(f\"Error: Raw data file for {ticker} not found. Please ensure it's in the data/raw directory.\")\n",
    "        # Skip this ticker if the file is not found\n",
    "        continue\n",
    "\n",
    "# Check the column structure of the loaded data\n",
    "if 'TSLA' in all_data:\n",
    "    print(\"\\nSample TSLA data info:\")\n",
    "    all_data['TSLA'].info()\n",
    "\n",
    "# Create a single DataFrame for 'Close' prices for easier manipulation\n",
    "# This will be the primary data for many analyses.\n",
    "processed_data = pd.DataFrame()\n",
    "\n",
    "# Iterate through the loaded data and extract the relevant price series\n",
    "for ticker, df in all_data.items():\n",
    "    # Check if the DataFrame has a MultiIndex and select the 'Close' column accordingly\n",
    "    if isinstance(df.columns, pd.MultiIndex):\n",
    "        # The adjusted close price is in the 'Close' column within the MultiIndex\n",
    "        adj_close_series = df.loc[:, 'Close']\n",
    "    else:\n",
    "        # If it's a simple index, select the 'Close' column\n",
    "        adj_close_series = df['Close']\n",
    "\n",
    "    # Rename the column to the ticker symbol and add to the processed DataFrame\n",
    "    processed_data[ticker] = adj_close_series\n",
    "\n",
    "\n",
    "\n",
    "# Display basic statistics to understand the data distribution\n",
    "print(\"\\nBasic statistics for processed data:\")\n",
    "print(processed_data.describe())\n",
    "\n"
   ]
  },
  {
   "cell_type": "code",
   "execution_count": 4,
   "id": "ef016d92",
   "metadata": {},
   "outputs": [
    {
     "name": "stdout",
     "output_type": "stream",
     "text": [
      "\n",
      "Missing values before handling:\n",
      "TSLA    0\n",
      "BND     0\n",
      "SPY     0\n",
      "dtype: int64\n"
     ]
    }
   ],
   "source": [
    "# Check for and handle missing values, which are common in financial data\n",
    "print(\"\\nMissing values before handling:\")\n",
    "print(processed_data.isnull().sum())"
   ]
  },
  {
   "cell_type": "code",
   "execution_count": 5,
   "id": "980e57c0",
   "metadata": {},
   "outputs": [
    {
     "name": "stderr",
     "output_type": "stream",
     "text": [
      "C:\\Users\\ayish\\AppData\\Local\\Temp\\ipykernel_5296\\3165526358.py:2: FutureWarning: DataFrame.fillna with 'method' is deprecated and will raise in a future version. Use obj.ffill() or obj.bfill() instead.\n",
      "  processed_data.fillna(method='ffill', inplace=True)\n",
      "C:\\Users\\ayish\\AppData\\Local\\Temp\\ipykernel_5296\\3165526358.py:3: FutureWarning: DataFrame.fillna with 'method' is deprecated and will raise in a future version. Use obj.ffill() or obj.bfill() instead.\n",
      "  processed_data.fillna(method='bfill', inplace=True)\n"
     ]
    }
   ],
   "source": [
    "# Use forward fill, then backward fill to ensure no NaNs remain\n",
    "processed_data.fillna(method='ffill', inplace=True)\n",
    "processed_data.fillna(method='bfill', inplace=True)"
   ]
  },
  {
   "cell_type": "code",
   "execution_count": 6,
   "id": "2e5166a4",
   "metadata": {},
   "outputs": [
    {
     "name": "stdout",
     "output_type": "stream",
     "text": [
      "\n",
      "Missing values after handling:\n",
      "TSLA    0\n",
      "BND     0\n",
      "SPY     0\n",
      "dtype: int64\n"
     ]
    }
   ],
   "source": [
    "print(\"\\nMissing values after handling:\")\n",
    "print(processed_data.isnull().sum())"
   ]
  },
  {
   "cell_type": "code",
   "execution_count": 7,
   "id": "4873597f",
   "metadata": {},
   "outputs": [
    {
     "name": "stdout",
     "output_type": "stream",
     "text": [
      "\n",
      "Data types:\n",
      "<class 'pandas.core.frame.DataFrame'>\n",
      "DatetimeIndex: 2535 entries, 2015-07-01 to 2025-07-30\n",
      "Data columns (total 3 columns):\n",
      " #   Column  Non-Null Count  Dtype  \n",
      "---  ------  --------------  -----  \n",
      " 0   TSLA    2535 non-null   float64\n",
      " 1   BND     2535 non-null   float64\n",
      " 2   SPY     2535 non-null   float64\n",
      "dtypes: float64(3)\n",
      "memory usage: 79.2 KB\n",
      "None\n",
      "\n",
      "Processed data saved to data/processed/all_assets_processed.csv\n"
     ]
    }
   ],
   "source": [
    "\n",
    "# Verify data types for all columns\n",
    "print(\"\\nData types:\")\n",
    "print(processed_data.info())\n",
    "\n",
    "# Save the processed data to the designated directory\n",
    "processed_data.to_csv('../data/processed/all_assets_processed.csv')\n",
    "print(\"\\nProcessed data saved to data/processed/all_assets_processed.csv\")"
   ]
  }
 ],
 "metadata": {
  "kernelspec": {
   "display_name": ".venv",
   "language": "python",
   "name": "python3"
  },
  "language_info": {
   "codemirror_mode": {
    "name": "ipython",
    "version": 3
   },
   "file_extension": ".py",
   "mimetype": "text/x-python",
   "name": "python",
   "nbconvert_exporter": "python",
   "pygments_lexer": "ipython3",
   "version": "3.13.5"
  }
 },
 "nbformat": 4,
 "nbformat_minor": 5
}
